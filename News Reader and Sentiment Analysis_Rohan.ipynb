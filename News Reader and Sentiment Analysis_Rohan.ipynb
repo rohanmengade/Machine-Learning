{
 "cells": [
  {
   "cell_type": "code",
   "execution_count": 103,
   "metadata": {},
   "outputs": [],
   "source": [
    "# 1. News Reader \n",
    "# 2. Text classification \n",
    "# RohanMengade"
   ]
  },
  {
   "cell_type": "code",
   "execution_count": 139,
   "metadata": {},
   "outputs": [],
   "source": [
    "import pandas as pd\n",
    "import urllib\n",
    "import os\n",
    "import requests\n",
    "import matplotlib.pyplot as plt\n",
    "import warnings\n",
    "warnings.filterwarnings(\"ignore\", message=\"numpy.dtype size changed\")\n",
    "import newspaper"
   ]
  },
  {
   "cell_type": "code",
   "execution_count": 141,
   "metadata": {},
   "outputs": [],
   "source": [
    "from newspaper import Article\n",
    "article = Article('https://indianexpress.com/article/sports/cricket/england-vs-west-indies-stuart-broad-angry-6499635/')\n",
    "article.download()\n",
    "article.parse()"
   ]
  },
  {
   "cell_type": "code",
   "execution_count": 148,
   "metadata": {},
   "outputs": [
    {
     "data": {
      "text/plain": [
       "'England vs West Indies: Stuart Broad ‘frustrated, angry, gutted’ after being dropped from playing XI'"
      ]
     },
     "execution_count": 148,
     "metadata": {},
     "output_type": "execute_result"
    }
   ],
   "source": [
    "article.title"
   ]
  },
  {
   "cell_type": "code",
   "execution_count": 149,
   "metadata": {},
   "outputs": [
    {
     "data": {
      "text/plain": [
       "datetime.datetime(2020, 7, 10, 19, 50, 39, tzinfo=tzoffset(None, 19800))"
      ]
     },
     "execution_count": 149,
     "metadata": {},
     "output_type": "execute_result"
    }
   ],
   "source": [
    "article.publish_date"
   ]
  },
  {
   "cell_type": "code",
   "execution_count": 150,
   "metadata": {},
   "outputs": [
    {
     "data": {
      "text/plain": [
       "'https://images.indianexpress.com/2020/07/stuart-broad.jpg?w=759'"
      ]
     },
     "execution_count": 150,
     "metadata": {},
     "output_type": "execute_result"
    }
   ],
   "source": [
    "article.top_image"
   ]
  },
  {
   "cell_type": "code",
   "execution_count": 151,
   "metadata": {
    "scrolled": true
   },
   "outputs": [
    {
     "data": {
      "text/plain": [
       "'England’s Stuart Broad, left, wears a disposable pair of gloves as a precaution against the coronavirus during the third day of the first cricket Test match between England and West Indies, at the Ageas Bowl in Southampton. (AP) England’s Stuart Broad, left, wears a disposable pair of gloves as a precaution against the coronavirus during the third day of the first cricket Test match between England and West Indies, at the Ageas Bowl in Southampton. (AP)\\n\\nEngland seamer Stuart Broad said that he felt “frustrated, angry and gutted” after being dropped from the opening Test against West Indies.\\n\\nSpeaking on Sky Sports’ ‘Player Zone’ on Friday, Broad also revealed that he had sought clarifications over his future in the team.\\n\\nBroad, who is England’s second highest wicket-taker of all time with 485 scalps in the longest format of the game, last missed a home Test eight years ago when he was rested against West Indies in 2012.\\n\\n“I found out about 6pm the night before the game. Stokesy told me just that they’re going with extra pace in these conditions,” Broad said.\\n\\n“I’ve been frustrated, angry and gutted – because it’s quite a hard decision to understand. I’ve probably bowled the best I’ve ever bowled in the last couple of years. I felt like it was my shirt having been in the team through the Ashes and going to South Africa and winning there,” he added.\\n\\n“I wanted clarifications on the future going forward and I was given pretty positive feedback going forward.”\\n\\n“I felt like I deserved a spot in the team, like everyone else. Chris Woakes, Sam Curran were bowling really well and probably deserve to be in the XI too.”\\n\\n“So it is hard to take but also I’m quite pleased I feel frustrated and feel gutted and angry because if I didn’t I’d have a different decision to make.”\\n\\n“I don’t think I’ve got anything to prove – England know what I can do, the selectors know what I can do – and when I get that opportunity again you can bet I’ll be on the money,” Broad added.\\n\\n“I spoke to Ed Smith last night and he said he’s involved in picking the 13 and this was picked purely for this pitch. I’m not a particularly emotional person but I’ve found the last couple of days quite tough,” Broad said.\\n\\n“To say I’m disappointed would be an understatement: you get disappointed if you drop your phone and break your screen,” he added.\\n\\n📣 The Indian Express is now on Telegram. Click here to join our channel (@indianexpress) and stay updated with the latest headlines\\n\\nFor all the latest Sports News, download Indian Express App.\\n\\n© IE Online Media Services Pvt Ltd'"
      ]
     },
     "execution_count": 151,
     "metadata": {},
     "output_type": "execute_result"
    }
   ],
   "source": [
    "article.text"
   ]
  },
  {
   "cell_type": "code",
   "execution_count": null,
   "metadata": {},
   "outputs": [],
   "source": [
    "## Noun Phrase extraction\n",
    "# this type of extraction is important when you want to analyze the “who” in a sentence."
   ]
  },
  {
   "cell_type": "code",
   "execution_count": 152,
   "metadata": {},
   "outputs": [
    {
     "name": "stdout",
     "output_type": "stream",
     "text": [
      "stokesy\n",
      "’ re\n",
      "extra pace\n",
      "broad\n"
     ]
    }
   ],
   "source": [
    "blob = TextBlob(\"Stokesy told me just that they’re going with extra pace in these conditions,” Broad said\")\n",
    "for np in blob.noun_phrases:\n",
    " print (np)"
   ]
  },
  {
   "cell_type": "code",
   "execution_count": 153,
   "metadata": {},
   "outputs": [],
   "source": [
    "# Part-of-speech Tagging\n",
    "\n",
    "# It tells whether a word is a noun, or an adjective, or a verb, etc. \n",
    "# This is just a complete version of noun phrase extraction, \n",
    "#  where we want to find all the the parts of speech in a sentence."
   ]
  },
  {
   "cell_type": "code",
   "execution_count": 154,
   "metadata": {},
   "outputs": [
    {
     "name": "stdout",
     "output_type": "stream",
     "text": [
      "Stokesy NNP\n",
      "told VBD\n",
      "me PRP\n",
      "just RB\n",
      "that IN\n",
      "they PRP\n",
      "’ VBP\n",
      "re VB\n",
      "going VBG\n",
      "with IN\n",
      "extra JJ\n",
      "pace NN\n",
      "in IN\n",
      "these DT\n",
      "conditions NNS\n",
      "” NNP\n",
      "Broad NNP\n",
      "said VBD\n"
     ]
    }
   ],
   "source": [
    "for words, tag in blob.tags:\n",
    " print (words, tag)"
   ]
  },
  {
   "cell_type": "code",
   "execution_count": null,
   "metadata": {},
   "outputs": [],
   "source": [
    "# Pluralise word"
   ]
  },
  {
   "cell_type": "code",
   "execution_count": 155,
   "metadata": {},
   "outputs": [
    {
     "data": {
      "text/plain": [
       "'tests'"
      ]
     },
     "execution_count": 155,
     "metadata": {},
     "output_type": "execute_result"
    }
   ],
   "source": [
    "from textblob import Word\n",
    "w = Word('test')\n",
    "w.pluralize()"
   ]
  },
  {
   "cell_type": "markdown",
   "metadata": {},
   "source": [
    "## Text classification using TextBlob"
   ]
  },
  {
   "cell_type": "code",
   "execution_count": 156,
   "metadata": {},
   "outputs": [],
   "source": [
    "news_data = article.text"
   ]
  },
  {
   "cell_type": "code",
   "execution_count": 157,
   "metadata": {},
   "outputs": [
    {
     "data": {
      "text/plain": [
       "'England’s Stuart Broad, left, wears a disposable pair of gloves as a precaution against the coronavirus during the third day of the first cricket Test match between England and West Indies, at the Ageas Bowl in Southampton. (AP) England’s Stuart Broad, left, wears a disposable pair of gloves as a precaution against the coronavirus during the third day of the first cricket Test match between England and West Indies, at the Ageas Bowl in Southampton. (AP)\\n\\nEngland seamer Stuart Broad said that he felt “frustrated, angry and gutted” after being dropped from the opening Test against West Indies.\\n\\nSpeaking on Sky Sports’ ‘Player Zone’ on Friday, Broad also revealed that he had sought clarifications over his future in the team.\\n\\nBroad, who is England’s second highest wicket-taker of all time with 485 scalps in the longest format of the game, last missed a home Test eight years ago when he was rested against West Indies in 2012.\\n\\n“I found out about 6pm the night before the game. Stokesy told me just that they’re going with extra pace in these conditions,” Broad said.\\n\\n“I’ve been frustrated, angry and gutted – because it’s quite a hard decision to understand. I’ve probably bowled the best I’ve ever bowled in the last couple of years. I felt like it was my shirt having been in the team through the Ashes and going to South Africa and winning there,” he added.\\n\\n“I wanted clarifications on the future going forward and I was given pretty positive feedback going forward.”\\n\\n“I felt like I deserved a spot in the team, like everyone else. Chris Woakes, Sam Curran were bowling really well and probably deserve to be in the XI too.”\\n\\n“So it is hard to take but also I’m quite pleased I feel frustrated and feel gutted and angry because if I didn’t I’d have a different decision to make.”\\n\\n“I don’t think I’ve got anything to prove – England know what I can do, the selectors know what I can do – and when I get that opportunity again you can bet I’ll be on the money,” Broad added.\\n\\n“I spoke to Ed Smith last night and he said he’s involved in picking the 13 and this was picked purely for this pitch. I’m not a particularly emotional person but I’ve found the last couple of days quite tough,” Broad said.\\n\\n“To say I’m disappointed would be an understatement: you get disappointed if you drop your phone and break your screen,” he added.\\n\\n📣 The Indian Express is now on Telegram. Click here to join our channel (@indianexpress) and stay updated with the latest headlines\\n\\nFor all the latest Sports News, download Indian Express App.\\n\\n© IE Online Media Services Pvt Ltd'"
      ]
     },
     "execution_count": 157,
     "metadata": {},
     "output_type": "execute_result"
    }
   ],
   "source": [
    "news_data"
   ]
  },
  {
   "cell_type": "code",
   "execution_count": 158,
   "metadata": {},
   "outputs": [],
   "source": [
    "news_training_selected = [\n",
    "('England seamer Stuart Broad said that he felt “frustrated, angry and gutted” after being dropped from the opening Test against West Indies.','neg'),\n",
    "('Broad, who is England’s second highest wicket-taker of all time with 485 scalps in the longest format of the game','pos'),\n",
    "('I found out about 6pm the night before the game.','pos'),\n",
    "('I felt like I deserved a spot in the team, like everyone else.','pos'),\n",
    "('So it is hard to take but also I’m quite pleased I feel frustrated and feel gutted and angry because if I didn’t I’d have a different decision to make.','pos'),\n",
    "]"
   ]
  },
  {
   "cell_type": "code",
   "execution_count": 159,
   "metadata": {},
   "outputs": [],
   "source": [
    "news_testing = [\n",
    "('I spoke to Ed Smith last night and he said he’s involved in picking the 13 and this was picked purely for this pitch.','pos'),\n",
    "('To say I’m disappointed would be an understatement: you get disappointed if you drop your phone and break your screen','neg'),\n",
    "('I don’t think I’ve got anything to prove – England know what I can do, the selectors know what I can do – and when I get that opportunity again you can bet I’ll be on the money.','pos'),\n",
    "('I wanted clarifications on the future going forward and I was given pretty positive feedback going forward.','pos'),\n",
    "('Stokesy told me just that they’re going with extra pace in these conditions,” Broad said.','pos')]"
   ]
  },
  {
   "cell_type": "code",
   "execution_count": 160,
   "metadata": {},
   "outputs": [],
   "source": [
    "from textblob import classifiers\n",
    "classifier = classifiers.NaiveBayesClassifier(news_training_selected)"
   ]
  },
  {
   "cell_type": "code",
   "execution_count": 162,
   "metadata": {},
   "outputs": [
    {
     "name": "stdout",
     "output_type": "stream",
     "text": [
      "0.8\n",
      "Most Informative Features\n",
      "       contains(England) = True              neg : pos    =      2.5 : 1.0\n",
      "        contains(gutted) = True              neg : pos    =      2.5 : 1.0\n",
      "         contains(angry) = True              neg : pos    =      2.5 : 1.0\n",
      "    contains(frustrated) = True              neg : pos    =      2.5 : 1.0\n",
      "          contains(felt) = True              neg : pos    =      2.5 : 1.0\n",
      "             contains(I) = False             neg : pos    =      2.5 : 1.0\n",
      "         contains(Broad) = True              neg : pos    =      2.5 : 1.0\n",
      "           contains(and) = True              neg : pos    =      2.5 : 1.0\n",
      "            contains(in) = False             neg : pos    =      1.5 : 1.0\n",
      "             contains(’) = False             neg : pos    =      1.5 : 1.0\n"
     ]
    }
   ],
   "source": [
    "print (classifier.accuracy(news_testing))\n",
    "classifier.accuracy(news_testing)\n",
    "classifier.show_informative_features(10)"
   ]
  },
  {
   "cell_type": "markdown",
   "metadata": {},
   "source": [
    "##The accuracy of this classifier on the testing dataset "
   ]
  },
  {
   "cell_type": "code",
   "execution_count": null,
   "metadata": {},
   "outputs": [],
   "source": [
    "# Here, we can see that if the text contains “gutted”,\"angry\",\"frustrated\" then \n",
    "  # there is a high probability that the statement will be negative."
   ]
  },
  {
   "cell_type": "code",
   "execution_count": null,
   "metadata": {},
   "outputs": [],
   "source": [
    " # random text checking"
   ]
  },
  {
   "cell_type": "code",
   "execution_count": 163,
   "metadata": {},
   "outputs": [
    {
     "name": "stdout",
     "output_type": "stream",
     "text": [
      "pos\n"
     ]
    }
   ],
   "source": [
    "from textblob import TextBlob\n",
    "blob = TextBlob('Sachin Tendulkar is the best batsman', classifier=classifier)\n",
    "print (blob.classify())"
   ]
  },
  {
   "cell_type": "markdown",
   "metadata": {},
   "source": [
    "### Sentiment Analysis \n",
    "\n",
    "It is basically the process of determining the attitude or the emotion of the writer, i.e., whether it is positive or negative or neutral.\n",
    "\n",
    "The sentiment function of textblob returns two properties, polarity, and subjectivity.\n",
    "\n",
    "Polarity is float which lies in the range of [-1,1] where 1 means positive statement and -1 means a negative statement. \n",
    "\n",
    "Subjective sentences generally refer to personal opinion, emotion or judgment whereas objective refers to factual information. Subjectivity is also a float which lies in the range of [0,1]."
   ]
  },
  {
   "cell_type": "code",
   "execution_count": 164,
   "metadata": {},
   "outputs": [
    {
     "name": "stdout",
     "output_type": "stream",
     "text": [
      "Sachin Tendulkar is the best batsman\n"
     ]
    },
    {
     "data": {
      "text/plain": [
       "Sentiment(polarity=1.0, subjectivity=0.3)"
      ]
     },
     "execution_count": 164,
     "metadata": {},
     "output_type": "execute_result"
    }
   ],
   "source": [
    "print (blob)\n",
    "blob.sentiment"
   ]
  }
 ],
 "metadata": {
  "kernelspec": {
   "display_name": "Python 3",
   "language": "python",
   "name": "python3"
  },
  "language_info": {
   "codemirror_mode": {
    "name": "ipython",
    "version": 3
   },
   "file_extension": ".py",
   "mimetype": "text/x-python",
   "name": "python",
   "nbconvert_exporter": "python",
   "pygments_lexer": "ipython3",
   "version": "3.7.3"
  }
 },
 "nbformat": 4,
 "nbformat_minor": 4
}
